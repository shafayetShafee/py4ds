{
 "cells": [
  {
   "cell_type": "markdown",
   "id": "b85b4f39",
   "metadata": {},
   "source": [
    "## Object Introspection"
   ]
  },
  {
   "cell_type": "code",
   "execution_count": 2,
   "id": "f4db5202",
   "metadata": {},
   "outputs": [],
   "source": [
    "b = [1, 2, 3]"
   ]
  },
  {
   "cell_type": "code",
   "execution_count": 4,
   "id": "261c9d82",
   "metadata": {},
   "outputs": [],
   "source": [
    "b?"
   ]
  },
  {
   "cell_type": "code",
   "execution_count": 5,
   "id": "fd73b864",
   "metadata": {},
   "outputs": [],
   "source": [
    "def add_numbers(a, b):\n",
    "    \"\"\"\n",
    "    Add two numbers\n",
    "    \n",
    "    Returns\n",
    "    --------\n",
    "    the_sum: type of arguments\n",
    "    \"\"\"\n",
    "    return a + b"
   ]
  },
  {
   "cell_type": "code",
   "execution_count": 6,
   "id": "41751dce",
   "metadata": {},
   "outputs": [],
   "source": [
    "add_numbers?"
   ]
  },
  {
   "cell_type": "code",
   "execution_count": 2,
   "id": "070caacb",
   "metadata": {},
   "outputs": [
    {
     "data": {
      "text/plain": [
       "[1, 2, 3]"
      ]
     },
     "execution_count": 2,
     "metadata": {},
     "output_type": "execute_result"
    }
   ],
   "source": [
    "a = [1, 2, 3]\n",
    "\n",
    "b = a\n",
    "\n",
    "b"
   ]
  },
  {
   "cell_type": "code",
   "execution_count": 3,
   "id": "772a6e37",
   "metadata": {},
   "outputs": [],
   "source": [
    "a.append(4)"
   ]
  },
  {
   "cell_type": "code",
   "execution_count": 4,
   "id": "f793d8a4",
   "metadata": {},
   "outputs": [
    {
     "data": {
      "text/plain": [
       "[1, 2, 3, 4]"
      ]
     },
     "execution_count": 4,
     "metadata": {},
     "output_type": "execute_result"
    }
   ],
   "source": [
    "b"
   ]
  },
  {
   "cell_type": "markdown",
   "id": "d27187ee",
   "metadata": {},
   "source": [
    "**So we can see that, here both a and b is just a reference to the object `[1, 2, 3]`**"
   ]
  },
  {
   "cell_type": "markdown",
   "id": "f40e9d23",
   "metadata": {},
   "source": [
    "## Pass by value and Pass by reference"
   ]
  },
  {
   "cell_type": "markdown",
   "id": "034dbc0c",
   "metadata": {},
   "source": [
    "[See this](python-passing.md)"
   ]
  },
  {
   "cell_type": "markdown",
   "id": "72a2ca82",
   "metadata": {},
   "source": [
    "## Deep copy and Shallow copy in python\n",
    "\n",
    "[See this](Deep-copy-and-Shallow-copy.md)"
   ]
  },
  {
   "cell_type": "markdown",
   "id": "86579efb",
   "metadata": {},
   "source": [
    "## Checking the Type\n"
   ]
  },
  {
   "cell_type": "code",
   "execution_count": 4,
   "id": "3695320b",
   "metadata": {},
   "outputs": [
    {
     "data": {
      "text/plain": [
       "True"
      ]
     },
     "execution_count": 4,
     "metadata": {},
     "output_type": "execute_result"
    }
   ],
   "source": [
    "a = 5; b = 4.5\n",
    "\n",
    "isinstance(a, int)"
   ]
  },
  {
   "cell_type": "code",
   "execution_count": 8,
   "id": "b5006abd",
   "metadata": {},
   "outputs": [
    {
     "data": {
      "text/plain": [
       "True"
      ]
     },
     "execution_count": 8,
     "metadata": {},
     "output_type": "execute_result"
    }
   ],
   "source": [
    "isinstance(a, (int, float))"
   ]
  },
  {
   "cell_type": "code",
   "execution_count": 9,
   "id": "298fb213",
   "metadata": {},
   "outputs": [
    {
     "data": {
      "text/plain": [
       "True"
      ]
     },
     "execution_count": 9,
     "metadata": {},
     "output_type": "execute_result"
    }
   ],
   "source": [
    "isinstance(b, (int, float))"
   ]
  },
  {
   "cell_type": "markdown",
   "id": "d353a0f8",
   "metadata": {},
   "source": [
    "## Accessing Attributes and methods"
   ]
  },
  {
   "cell_type": "code",
   "execution_count": 12,
   "id": "410880b9",
   "metadata": {},
   "outputs": [
    {
     "data": {
      "text/plain": [
       "<function str.split(sep=None, maxsplit=-1)>"
      ]
     },
     "execution_count": 12,
     "metadata": {},
     "output_type": "execute_result"
    }
   ],
   "source": [
    "a = \"foo\"\n",
    "\n",
    "getattr(a, \"split\")"
   ]
  },
  {
   "cell_type": "markdown",
   "id": "e98c2c58",
   "metadata": {},
   "source": [
    "`getattr`, `setattr`, `hasattr` are used effectively to write generic and reusable code."
   ]
  },
  {
   "cell_type": "markdown",
   "id": "879214a7",
   "metadata": {},
   "source": [
    "## Duck Typing\n"
   ]
  },
  {
   "cell_type": "markdown",
   "id": "deba2eec",
   "metadata": {},
   "source": [
    "Often without caring about the type of an object, focusing on whether that object has certain methods or attributes is known as Duck typing. That if it walks like a duck, quacks like a duck, then its a duck."
   ]
  },
  {
   "cell_type": "code",
   "execution_count": 14,
   "id": "1ae4105a",
   "metadata": {},
   "outputs": [
    {
     "ename": "TypeError",
     "evalue": "'int' object is not iterable",
     "output_type": "error",
     "traceback": [
      "\u001b[1;31m---------------------------------------------------------------------------\u001b[0m",
      "\u001b[1;31mTypeError\u001b[0m                                 Traceback (most recent call last)",
      "Input \u001b[1;32mIn [14]\u001b[0m, in \u001b[0;36m<cell line: 1>\u001b[1;34m()\u001b[0m\n\u001b[1;32m----> 1\u001b[0m \u001b[38;5;28;43miter\u001b[39;49m\u001b[43m(\u001b[49m\u001b[38;5;241;43m1\u001b[39;49m\u001b[43m)\u001b[49m\n",
      "\u001b[1;31mTypeError\u001b[0m: 'int' object is not iterable"
     ]
    }
   ],
   "source": [
    "iter(1)"
   ]
  },
  {
   "cell_type": "code",
   "execution_count": 15,
   "id": "80b26801",
   "metadata": {},
   "outputs": [],
   "source": [
    "def isiterable(obj):\n",
    "    try:\n",
    "        iter(obj)\n",
    "        return True\n",
    "    except TypeError:\n",
    "        return False"
   ]
  },
  {
   "cell_type": "code",
   "execution_count": 17,
   "id": "a331652f",
   "metadata": {},
   "outputs": [
    {
     "data": {
      "text/plain": [
       "True"
      ]
     },
     "execution_count": 17,
     "metadata": {},
     "output_type": "execute_result"
    }
   ],
   "source": [
    "isiterable(\"af\")"
   ]
  },
  {
   "cell_type": "code",
   "execution_count": 18,
   "id": "f5eca318",
   "metadata": {},
   "outputs": [
    {
     "data": {
      "text/plain": [
       "True"
      ]
     },
     "execution_count": 18,
     "metadata": {},
     "output_type": "execute_result"
    }
   ],
   "source": [
    "isiterable([1, 2, 3])"
   ]
  },
  {
   "cell_type": "code",
   "execution_count": 19,
   "id": "9ad206a2",
   "metadata": {},
   "outputs": [
    {
     "data": {
      "text/plain": [
       "False"
      ]
     },
     "execution_count": 19,
     "metadata": {},
     "output_type": "execute_result"
    }
   ],
   "source": [
    "isiterable(1)"
   ]
  },
  {
   "cell_type": "markdown",
   "id": "238ae9a2",
   "metadata": {},
   "source": [
    "**A module is a file with the extension `.py`**"
   ]
  },
  {
   "cell_type": "code",
   "execution_count": 22,
   "id": "0cbf1e1c",
   "metadata": {},
   "outputs": [
    {
     "data": {
      "text/plain": [
       "4"
      ]
     },
     "execution_count": 22,
     "metadata": {},
     "output_type": "execute_result"
    }
   ],
   "source": [
    "a = 9\n",
    "b = 2\n",
    "\n",
    "a // b # interger division"
   ]
  },
  {
   "cell_type": "code",
   "execution_count": 25,
   "id": "b14458e0",
   "metadata": {},
   "outputs": [
    {
     "data": {
      "text/plain": [
       "1"
      ]
     },
     "execution_count": 25,
     "metadata": {},
     "output_type": "execute_result"
    }
   ],
   "source": [
    "a % b # reminder"
   ]
  },
  {
   "cell_type": "markdown",
   "id": "8a7b314f",
   "metadata": {},
   "source": [
    "To check whether two variables refer to the same object, we can use keyword `is` and `is not`"
   ]
  },
  {
   "cell_type": "code",
   "execution_count": 26,
   "id": "61eda913",
   "metadata": {},
   "outputs": [],
   "source": [
    "a = [1, 2, 3]\n",
    "\n",
    "b = a\n",
    "\n",
    "c = list(a)"
   ]
  },
  {
   "cell_type": "code",
   "execution_count": 28,
   "id": "dca862eb",
   "metadata": {},
   "outputs": [
    {
     "data": {
      "text/plain": [
       "True"
      ]
     },
     "execution_count": 28,
     "metadata": {},
     "output_type": "execute_result"
    }
   ],
   "source": [
    "a is b"
   ]
  },
  {
   "cell_type": "code",
   "execution_count": 29,
   "id": "6a2b7031",
   "metadata": {},
   "outputs": [
    {
     "data": {
      "text/plain": [
       "False"
      ]
     },
     "execution_count": 29,
     "metadata": {},
     "output_type": "execute_result"
    }
   ],
   "source": [
    "c is a"
   ]
  },
  {
   "cell_type": "code",
   "execution_count": 30,
   "id": "5726ede1",
   "metadata": {},
   "outputs": [
    {
     "name": "stdout",
     "output_type": "stream",
     "text": [
      "id of a: 2982169276544\n",
      "id of b: 2982169276544\n",
      "id of c: 2982184242240\n"
     ]
    }
   ],
   "source": [
    "print(f\"id of a: {id(a)}\")\n",
    "print(f\"id of b: {id(b)}\")\n",
    "print(f\"id of c: {id(c)}\")"
   ]
  },
  {
   "cell_type": "markdown",
   "id": "305446e5",
   "metadata": {},
   "source": [
    "**`list()` always creates a new python list (i.e. a copy)**"
   ]
  },
  {
   "cell_type": "code",
   "execution_count": 32,
   "id": "72ff43f3",
   "metadata": {},
   "outputs": [
    {
     "data": {
      "text/plain": [
       "NoneType"
      ]
     },
     "execution_count": 32,
     "metadata": {},
     "output_type": "execute_result"
    }
   ],
   "source": [
    "a = None\n",
    "\n",
    "type(a)"
   ]
  },
  {
   "cell_type": "code",
   "execution_count": 34,
   "id": "996c1cfe",
   "metadata": {},
   "outputs": [
    {
     "data": {
      "text/plain": [
       "True"
      ]
     },
     "execution_count": 34,
     "metadata": {},
     "output_type": "execute_result"
    }
   ],
   "source": [
    "a is None"
   ]
  },
  {
   "cell_type": "code",
   "execution_count": 35,
   "id": "f39bb3b4",
   "metadata": {},
   "outputs": [
    {
     "data": {
      "text/plain": [
       "True"
      ]
     },
     "execution_count": 35,
     "metadata": {},
     "output_type": "execute_result"
    }
   ],
   "source": [
    "a == None"
   ]
  },
  {
   "cell_type": "code",
   "execution_count": 36,
   "id": "beaca6bc",
   "metadata": {},
   "outputs": [
    {
     "data": {
      "text/plain": [
       "True"
      ]
     },
     "execution_count": 36,
     "metadata": {},
     "output_type": "execute_result"
    }
   ],
   "source": [
    "None == None"
   ]
  },
  {
   "cell_type": "code",
   "execution_count": 37,
   "id": "4fb38d21",
   "metadata": {},
   "outputs": [
    {
     "data": {
      "text/plain": [
       "True"
      ]
     },
     "execution_count": 37,
     "metadata": {},
     "output_type": "execute_result"
    }
   ],
   "source": [
    "None is None"
   ]
  },
  {
   "cell_type": "markdown",
   "id": "c2d5816d",
   "metadata": {},
   "source": [
    "## Mutable and Immutable objects\n",
    "\n",
    "**`list`, `dict`, Numpy arrays, user defined classes are mutable**"
   ]
  },
  {
   "cell_type": "markdown",
   "id": "74923558",
   "metadata": {},
   "source": [
    "**strings, tuple are immutable.**"
   ]
  },
  {
   "cell_type": "markdown",
   "id": "386ff16a",
   "metadata": {},
   "source": [
    "Standard python scaler types are\n",
    "\n",
    "- `None` (only one instance of the `None` object exists.\n",
    "- `str`\n",
    "- `bytes` (raw binary data)\n",
    "- `float`\n",
    "- `bool`\n",
    "- `int`"
   ]
  },
  {
   "cell_type": "code",
   "execution_count": 38,
   "id": "7fb7b4c4",
   "metadata": {},
   "outputs": [],
   "source": [
    "c = \"\"\"\n",
    "This is a longer string that spans multiple \n",
    "times.\n",
    "\"\"\""
   ]
  },
  {
   "cell_type": "markdown",
   "id": "92dc14b9",
   "metadata": {},
   "source": [
    "Here c contains four lines of text, due to line breaks after `\"\"\"` and after the lines"
   ]
  },
  {
   "cell_type": "code",
   "execution_count": 39,
   "id": "c7351389",
   "metadata": {},
   "outputs": [
    {
     "data": {
      "text/plain": [
       "3"
      ]
     },
     "execution_count": 39,
     "metadata": {},
     "output_type": "execute_result"
    }
   ],
   "source": [
    "c.count(\"\\n\")"
   ]
  },
  {
   "cell_type": "markdown",
   "id": "78c14607",
   "metadata": {},
   "source": [
    "If we want to modify the string, we need to use such function that creates new string and perform what need to be done on the new string."
   ]
  },
  {
   "cell_type": "markdown",
   "id": "14a2717d",
   "metadata": {},
   "source": [
    "Strings are unicode characters, so can be treated like other sequences in python."
   ]
  },
  {
   "cell_type": "markdown",
   "id": "96fe3d31",
   "metadata": {},
   "source": [
    "If we need to interpret a string with lots of special character like back-slashes as is, we may use the raw string, `r\"...\"`."
   ]
  },
  {
   "cell_type": "code",
   "execution_count": 40,
   "id": "13be60c1",
   "metadata": {},
   "outputs": [
    {
     "data": {
      "text/plain": [
       "'this\\\\has\\\\no\\\\special\\\\chars'"
      ]
     },
     "execution_count": 40,
     "metadata": {},
     "output_type": "execute_result"
    }
   ],
   "source": [
    "s = r\"this\\has\\no\\special\\chars\"\n",
    "s"
   ]
  },
  {
   "cell_type": "code",
   "execution_count": null,
   "id": "cdee4832",
   "metadata": {},
   "outputs": [],
   "source": []
  }
 ],
 "metadata": {
  "kernelspec": {
   "display_name": "Python 3 (ipykernel)",
   "language": "python",
   "name": "python3"
  },
  "language_info": {
   "codemirror_mode": {
    "name": "ipython",
    "version": 3
   },
   "file_extension": ".py",
   "mimetype": "text/x-python",
   "name": "python",
   "nbconvert_exporter": "python",
   "pygments_lexer": "ipython3",
   "version": "3.10.6"
  }
 },
 "nbformat": 4,
 "nbformat_minor": 5
}
