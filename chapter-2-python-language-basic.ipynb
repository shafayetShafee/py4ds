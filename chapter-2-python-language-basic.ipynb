{
 "cells": [
  {
   "cell_type": "markdown",
   "id": "b85b4f39",
   "metadata": {},
   "source": [
    "## Object Introspection"
   ]
  },
  {
   "cell_type": "code",
   "execution_count": 36,
   "id": "f4db5202",
   "metadata": {},
   "outputs": [],
   "source": [
    "b = [1, 2, 3]"
   ]
  },
  {
   "cell_type": "code",
   "execution_count": 37,
   "id": "261c9d82",
   "metadata": {},
   "outputs": [],
   "source": [
    "b?"
   ]
  },
  {
   "cell_type": "code",
   "execution_count": 38,
   "id": "fd73b864",
   "metadata": {},
   "outputs": [],
   "source": [
    "def add_numbers(a, b):\n",
    "    \"\"\"\n",
    "    Add two numbers\n",
    "    \n",
    "    Returns\n",
    "    --------\n",
    "    the_sum: type of arguments\n",
    "    \"\"\"\n",
    "    return a + b"
   ]
  },
  {
   "cell_type": "code",
   "execution_count": 39,
   "id": "41751dce",
   "metadata": {},
   "outputs": [],
   "source": [
    "add_numbers?"
   ]
  },
  {
   "cell_type": "code",
   "execution_count": 40,
   "id": "070caacb",
   "metadata": {},
   "outputs": [
    {
     "data": {
      "text/plain": [
       "[1, 2, 3]"
      ]
     },
     "execution_count": 40,
     "metadata": {},
     "output_type": "execute_result"
    }
   ],
   "source": [
    "a = [1, 2, 3]\n",
    "\n",
    "b = a\n",
    "\n",
    "b"
   ]
  },
  {
   "cell_type": "code",
   "execution_count": 41,
   "id": "772a6e37",
   "metadata": {},
   "outputs": [],
   "source": [
    "a.append(4)"
   ]
  },
  {
   "cell_type": "code",
   "execution_count": 42,
   "id": "f793d8a4",
   "metadata": {},
   "outputs": [
    {
     "data": {
      "text/plain": [
       "[1, 2, 3, 4]"
      ]
     },
     "execution_count": 42,
     "metadata": {},
     "output_type": "execute_result"
    }
   ],
   "source": [
    "b"
   ]
  },
  {
   "cell_type": "markdown",
   "id": "d27187ee",
   "metadata": {},
   "source": [
    "**So we can see that, here both a and b is just a reference to the object `[1, 2, 3]`**"
   ]
  },
  {
   "cell_type": "markdown",
   "id": "f40e9d23",
   "metadata": {},
   "source": [
    "## Pass by value and Pass by reference"
   ]
  },
  {
   "cell_type": "markdown",
   "id": "034dbc0c",
   "metadata": {},
   "source": [
    "[See this](python-passing.md)"
   ]
  },
  {
   "cell_type": "markdown",
   "id": "72a2ca82",
   "metadata": {},
   "source": [
    "## Deep copy and Shallow copy in python\n",
    "\n",
    "[See this](Deep-copy-and-Shallow-copy.md)"
   ]
  },
  {
   "cell_type": "markdown",
   "id": "86579efb",
   "metadata": {},
   "source": [
    "## Checking the Type\n"
   ]
  },
  {
   "cell_type": "code",
   "execution_count": 43,
   "id": "3695320b",
   "metadata": {},
   "outputs": [
    {
     "data": {
      "text/plain": [
       "True"
      ]
     },
     "execution_count": 43,
     "metadata": {},
     "output_type": "execute_result"
    }
   ],
   "source": [
    "a = 5; b = 4.5\n",
    "\n",
    "isinstance(a, int)"
   ]
  },
  {
   "cell_type": "code",
   "execution_count": 44,
   "id": "b5006abd",
   "metadata": {},
   "outputs": [
    {
     "data": {
      "text/plain": [
       "True"
      ]
     },
     "execution_count": 44,
     "metadata": {},
     "output_type": "execute_result"
    }
   ],
   "source": [
    "isinstance(a, (int, float))"
   ]
  },
  {
   "cell_type": "code",
   "execution_count": 45,
   "id": "298fb213",
   "metadata": {},
   "outputs": [
    {
     "data": {
      "text/plain": [
       "True"
      ]
     },
     "execution_count": 45,
     "metadata": {},
     "output_type": "execute_result"
    }
   ],
   "source": [
    "isinstance(b, (int, float))"
   ]
  },
  {
   "cell_type": "markdown",
   "id": "d353a0f8",
   "metadata": {},
   "source": [
    "## Accessing Attributes and methods"
   ]
  },
  {
   "cell_type": "code",
   "execution_count": 46,
   "id": "410880b9",
   "metadata": {},
   "outputs": [
    {
     "data": {
      "text/plain": [
       "<function str.split(sep=None, maxsplit=-1)>"
      ]
     },
     "execution_count": 46,
     "metadata": {},
     "output_type": "execute_result"
    }
   ],
   "source": [
    "a = \"foo\"\n",
    "\n",
    "getattr(a, \"split\")"
   ]
  },
  {
   "cell_type": "markdown",
   "id": "e98c2c58",
   "metadata": {},
   "source": [
    "`getattr`, `setattr`, `hasattr` are used effectively to write generic and reusable code."
   ]
  },
  {
   "cell_type": "markdown",
   "id": "879214a7",
   "metadata": {},
   "source": [
    "## Duck Typing\n"
   ]
  },
  {
   "cell_type": "markdown",
   "id": "deba2eec",
   "metadata": {},
   "source": [
    "Often without caring about the type of an object, focusing on whether that object has certain methods or attributes is known as Duck typing. That if it walks like a duck, quacks like a duck, then its a duck."
   ]
  },
  {
   "cell_type": "code",
   "execution_count": 47,
   "id": "1ae4105a",
   "metadata": {},
   "outputs": [
    {
     "ename": "TypeError",
     "evalue": "'int' object is not iterable",
     "output_type": "error",
     "traceback": [
      "\u001b[1;31m---------------------------------------------------------------------------\u001b[0m",
      "\u001b[1;31mTypeError\u001b[0m                                 Traceback (most recent call last)",
      "Cell \u001b[1;32mIn [47], line 1\u001b[0m\n\u001b[1;32m----> 1\u001b[0m \u001b[38;5;28;43miter\u001b[39;49m\u001b[43m(\u001b[49m\u001b[38;5;241;43m1\u001b[39;49m\u001b[43m)\u001b[49m\n",
      "\u001b[1;31mTypeError\u001b[0m: 'int' object is not iterable"
     ]
    }
   ],
   "source": [
    "iter(1)"
   ]
  },
  {
   "cell_type": "code",
   "execution_count": 49,
   "id": "80b26801",
   "metadata": {},
   "outputs": [],
   "source": [
    "def isiterable(obj):\n",
    "    try:\n",
    "        iter(obj)\n",
    "        return True\n",
    "    except TypeError:\n",
    "        return False"
   ]
  },
  {
   "cell_type": "code",
   "execution_count": 50,
   "id": "a331652f",
   "metadata": {},
   "outputs": [
    {
     "data": {
      "text/plain": [
       "True"
      ]
     },
     "execution_count": 50,
     "metadata": {},
     "output_type": "execute_result"
    }
   ],
   "source": [
    "isiterable(\"af\")"
   ]
  },
  {
   "cell_type": "code",
   "execution_count": 51,
   "id": "f5eca318",
   "metadata": {},
   "outputs": [
    {
     "data": {
      "text/plain": [
       "True"
      ]
     },
     "execution_count": 51,
     "metadata": {},
     "output_type": "execute_result"
    }
   ],
   "source": [
    "isiterable([1, 2, 3])"
   ]
  },
  {
   "cell_type": "code",
   "execution_count": 52,
   "id": "9ad206a2",
   "metadata": {},
   "outputs": [
    {
     "data": {
      "text/plain": [
       "False"
      ]
     },
     "execution_count": 52,
     "metadata": {},
     "output_type": "execute_result"
    }
   ],
   "source": [
    "isiterable(1)"
   ]
  },
  {
   "cell_type": "markdown",
   "id": "238ae9a2",
   "metadata": {},
   "source": [
    "**A module is a file with the extension `.py`**"
   ]
  },
  {
   "cell_type": "code",
   "execution_count": 53,
   "id": "0cbf1e1c",
   "metadata": {},
   "outputs": [
    {
     "data": {
      "text/plain": [
       "4"
      ]
     },
     "execution_count": 53,
     "metadata": {},
     "output_type": "execute_result"
    }
   ],
   "source": [
    "a = 9\n",
    "b = 2\n",
    "\n",
    "a // b # interger division"
   ]
  },
  {
   "cell_type": "code",
   "execution_count": 54,
   "id": "b14458e0",
   "metadata": {},
   "outputs": [
    {
     "data": {
      "text/plain": [
       "1"
      ]
     },
     "execution_count": 54,
     "metadata": {},
     "output_type": "execute_result"
    }
   ],
   "source": [
    "a % b # reminder"
   ]
  },
  {
   "cell_type": "markdown",
   "id": "8a7b314f",
   "metadata": {},
   "source": [
    "To check whether two variables refer to the same object, we can use keyword `is` and `is not`"
   ]
  },
  {
   "cell_type": "code",
   "execution_count": 55,
   "id": "61eda913",
   "metadata": {},
   "outputs": [],
   "source": [
    "a = [1, 2, 3]\n",
    "\n",
    "b = a\n",
    "\n",
    "c = list(a)"
   ]
  },
  {
   "cell_type": "code",
   "execution_count": 56,
   "id": "dca862eb",
   "metadata": {},
   "outputs": [
    {
     "data": {
      "text/plain": [
       "True"
      ]
     },
     "execution_count": 56,
     "metadata": {},
     "output_type": "execute_result"
    }
   ],
   "source": [
    "a is b"
   ]
  },
  {
   "cell_type": "code",
   "execution_count": 57,
   "id": "6a2b7031",
   "metadata": {},
   "outputs": [
    {
     "data": {
      "text/plain": [
       "False"
      ]
     },
     "execution_count": 57,
     "metadata": {},
     "output_type": "execute_result"
    }
   ],
   "source": [
    "c is a"
   ]
  },
  {
   "cell_type": "code",
   "execution_count": 58,
   "id": "5726ede1",
   "metadata": {},
   "outputs": [
    {
     "name": "stdout",
     "output_type": "stream",
     "text": [
      "id of a: 1255757929600\n",
      "id of b: 1255757929600\n",
      "id of c: 1255751927872\n"
     ]
    }
   ],
   "source": [
    "print(f\"id of a: {id(a)}\")\n",
    "print(f\"id of b: {id(b)}\")\n",
    "print(f\"id of c: {id(c)}\")"
   ]
  },
  {
   "cell_type": "markdown",
   "id": "305446e5",
   "metadata": {},
   "source": [
    "**`list()` always creates a new python list (i.e. a copy)**"
   ]
  },
  {
   "cell_type": "code",
   "execution_count": 59,
   "id": "72ff43f3",
   "metadata": {},
   "outputs": [
    {
     "data": {
      "text/plain": [
       "NoneType"
      ]
     },
     "execution_count": 59,
     "metadata": {},
     "output_type": "execute_result"
    }
   ],
   "source": [
    "a = None\n",
    "\n",
    "type(a)"
   ]
  },
  {
   "cell_type": "code",
   "execution_count": 60,
   "id": "996c1cfe",
   "metadata": {},
   "outputs": [
    {
     "data": {
      "text/plain": [
       "True"
      ]
     },
     "execution_count": 60,
     "metadata": {},
     "output_type": "execute_result"
    }
   ],
   "source": [
    "a is None"
   ]
  },
  {
   "cell_type": "code",
   "execution_count": 61,
   "id": "f39bb3b4",
   "metadata": {},
   "outputs": [
    {
     "data": {
      "text/plain": [
       "True"
      ]
     },
     "execution_count": 61,
     "metadata": {},
     "output_type": "execute_result"
    }
   ],
   "source": [
    "a == None"
   ]
  },
  {
   "cell_type": "code",
   "execution_count": 62,
   "id": "beaca6bc",
   "metadata": {},
   "outputs": [
    {
     "data": {
      "text/plain": [
       "True"
      ]
     },
     "execution_count": 62,
     "metadata": {},
     "output_type": "execute_result"
    }
   ],
   "source": [
    "None == None"
   ]
  },
  {
   "cell_type": "code",
   "execution_count": 63,
   "id": "4fb38d21",
   "metadata": {},
   "outputs": [
    {
     "data": {
      "text/plain": [
       "True"
      ]
     },
     "execution_count": 63,
     "metadata": {},
     "output_type": "execute_result"
    }
   ],
   "source": [
    "None is None"
   ]
  },
  {
   "cell_type": "markdown",
   "id": "c2d5816d",
   "metadata": {},
   "source": [
    "## Mutable and Immutable objects\n",
    "\n",
    "**`list`, `dict`, Numpy arrays, user defined classes are mutable**"
   ]
  },
  {
   "cell_type": "markdown",
   "id": "74923558",
   "metadata": {},
   "source": [
    "**strings, tuple are immutable.**"
   ]
  },
  {
   "cell_type": "markdown",
   "id": "386ff16a",
   "metadata": {},
   "source": [
    "Standard python scaler types are\n",
    "\n",
    "- `None` (only one instance of the `None` object exists.\n",
    "- `str`\n",
    "- `bytes` (raw binary data)\n",
    "- `float`\n",
    "- `bool`\n",
    "- `int`"
   ]
  },
  {
   "cell_type": "code",
   "execution_count": 64,
   "id": "7fb7b4c4",
   "metadata": {},
   "outputs": [],
   "source": [
    "c = \"\"\"\n",
    "This is a longer string that spans multiple \n",
    "times.\n",
    "\"\"\""
   ]
  },
  {
   "cell_type": "markdown",
   "id": "92dc14b9",
   "metadata": {},
   "source": [
    "Here c contains four lines of text, due to line breaks after `\"\"\"` and after the lines"
   ]
  },
  {
   "cell_type": "code",
   "execution_count": 65,
   "id": "c7351389",
   "metadata": {},
   "outputs": [
    {
     "data": {
      "text/plain": [
       "3"
      ]
     },
     "execution_count": 65,
     "metadata": {},
     "output_type": "execute_result"
    }
   ],
   "source": [
    "c.count(\"\\n\")"
   ]
  },
  {
   "cell_type": "markdown",
   "id": "78c14607",
   "metadata": {},
   "source": [
    "If we want to modify the string, we need to use such function that creates new string and perform what need to be done on the new string."
   ]
  },
  {
   "cell_type": "markdown",
   "id": "14a2717d",
   "metadata": {},
   "source": [
    "Strings are unicode characters, so can be treated like other sequences in python."
   ]
  },
  {
   "cell_type": "markdown",
   "id": "96fe3d31",
   "metadata": {},
   "source": [
    "If we need to interpret a string with lots of special character like back-slashes as is, we may use the raw string, `r\"...\"`."
   ]
  },
  {
   "cell_type": "code",
   "execution_count": 66,
   "id": "13be60c1",
   "metadata": {},
   "outputs": [
    {
     "data": {
      "text/plain": [
       "'this\\\\has\\\\no\\\\special\\\\chars'"
      ]
     },
     "execution_count": 66,
     "metadata": {},
     "output_type": "execute_result"
    }
   ],
   "source": [
    "s = r\"this\\has\\no\\special\\chars\"\n",
    "s"
   ]
  },
  {
   "cell_type": "code",
   "execution_count": 67,
   "id": "cdee4832",
   "metadata": {},
   "outputs": [
    {
     "data": {
      "text/plain": [
       "'88.46 Argentine Pesos are worth US$1'"
      ]
     },
     "execution_count": 67,
     "metadata": {},
     "output_type": "execute_result"
    }
   ],
   "source": [
    "\"{0:.2f} {1:s} are worth US${2:d}\".format(88.46, \"Argentine Pesos\", 1)"
   ]
  },
  {
   "cell_type": "code",
   "execution_count": 68,
   "id": "dd86e1d6",
   "metadata": {},
   "outputs": [
    {
     "data": {
      "text/plain": [
       "'88.46 Argentine Pesos are worth US$1'"
      ]
     },
     "execution_count": 68,
     "metadata": {},
     "output_type": "execute_result"
    }
   ],
   "source": [
    "f\"{88.46:.2f} Argentine Pesos are worth US${1:d}\""
   ]
  },
  {
   "cell_type": "markdown",
   "id": "b9d0d1a0",
   "metadata": {},
   "source": [
    "## Bytes and Unicode"
   ]
  },
  {
   "cell_type": "code",
   "execution_count": 69,
   "id": "de0e06cc",
   "metadata": {},
   "outputs": [
    {
     "data": {
      "text/plain": [
       "b'espa\\xc3\\xb1ol'"
      ]
     },
     "execution_count": 69,
     "metadata": {},
     "output_type": "execute_result"
    }
   ],
   "source": [
    "val = \"español\"\n",
    "\n",
    "utf_8 = val.encode(\"utf-8\")\n",
    "\n",
    "utf_8"
   ]
  },
  {
   "cell_type": "code",
   "execution_count": 70,
   "id": "a5a2e935",
   "metadata": {},
   "outputs": [
    {
     "data": {
      "text/plain": [
       "bytes"
      ]
     },
     "execution_count": 70,
     "metadata": {},
     "output_type": "execute_result"
    }
   ],
   "source": [
    "type(utf_8)"
   ]
  },
  {
   "cell_type": "code",
   "execution_count": 71,
   "id": "f4034670",
   "metadata": {},
   "outputs": [
    {
     "data": {
      "text/plain": [
       "'español'"
      ]
     },
     "execution_count": 71,
     "metadata": {},
     "output_type": "execute_result"
    }
   ],
   "source": [
    "utf_8.decode(\"utf_8\")"
   ]
  },
  {
   "cell_type": "code",
   "execution_count": 72,
   "id": "9032c1e4",
   "metadata": {},
   "outputs": [
    {
     "data": {
      "text/plain": [
       "b'espa\\xf1ol'"
      ]
     },
     "execution_count": 72,
     "metadata": {},
     "output_type": "execute_result"
    }
   ],
   "source": [
    "val.encode(\"latin1\")"
   ]
  },
  {
   "cell_type": "code",
   "execution_count": 73,
   "id": "22d4d943",
   "metadata": {},
   "outputs": [
    {
     "data": {
      "text/plain": [
       "b'\\xff\\xfee\\x00s\\x00p\\x00a\\x00\\xf1\\x00o\\x00l\\x00'"
      ]
     },
     "execution_count": 73,
     "metadata": {},
     "output_type": "execute_result"
    }
   ],
   "source": [
    "val.encode(\"utf-16\")"
   ]
  },
  {
   "cell_type": "markdown",
   "id": "838392a9",
   "metadata": {},
   "source": [
    "`encode` translates the string to its encoding specfic bytes representation and `decode` translate the bytes back to string assuming we know the encoding."
   ]
  },
  {
   "cell_type": "markdown",
   "id": "3476db6e",
   "metadata": {},
   "source": [
    "## Date and Times"
   ]
  },
  {
   "cell_type": "code",
   "execution_count": 74,
   "id": "0262e970",
   "metadata": {},
   "outputs": [
    {
     "data": {
      "text/plain": [
       "datetime.datetime(2011, 10, 29, 20, 30, 21)"
      ]
     },
     "execution_count": 74,
     "metadata": {},
     "output_type": "execute_result"
    }
   ],
   "source": [
    "from datetime import datetime, date, time\n",
    "\n",
    "dt = datetime(2011, 10, 29, 20, 30, 21)\n",
    "\n",
    "dt"
   ]
  },
  {
   "cell_type": "code",
   "execution_count": 75,
   "id": "ea378619",
   "metadata": {},
   "outputs": [
    {
     "data": {
      "text/plain": [
       "'2011-Oct-29 20:30'"
      ]
     },
     "execution_count": 75,
     "metadata": {},
     "output_type": "execute_result"
    }
   ],
   "source": [
    "dt.strftime(\"%Y-%b-%d %H:%M\")"
   ]
  },
  {
   "cell_type": "code",
   "execution_count": 76,
   "id": "0a468997",
   "metadata": {},
   "outputs": [
    {
     "data": {
      "text/plain": [
       "datetime.datetime(2009, 10, 31, 0, 0)"
      ]
     },
     "execution_count": 76,
     "metadata": {},
     "output_type": "execute_result"
    }
   ],
   "source": [
    "datetime.strptime(\"20091031\", \"%Y%m%d\")"
   ]
  },
  {
   "cell_type": "markdown",
   "id": "a1f62020",
   "metadata": {},
   "source": [
    "`strftime` is a method for datetime object that can be used to format datatime object and `strptime` is a function from `datetime` module that parse a string into datetime."
   ]
  },
  {
   "cell_type": "markdown",
   "id": "fd5723a8",
   "metadata": {},
   "source": [
    "**datetime.datetime** is an immutable type."
   ]
  },
  {
   "cell_type": "code",
   "execution_count": 77,
   "id": "637bbc8b",
   "metadata": {},
   "outputs": [],
   "source": [
    "dt2 = datetime(2011, 11, 15, 22, 30)"
   ]
  },
  {
   "cell_type": "code",
   "execution_count": 78,
   "id": "c78b5dd3",
   "metadata": {},
   "outputs": [
    {
     "data": {
      "text/plain": [
       "datetime.timedelta(days=17, seconds=7179)"
      ]
     },
     "execution_count": 78,
     "metadata": {},
     "output_type": "execute_result"
    }
   ],
   "source": [
    "delta = dt2 - dt\n",
    "\n",
    "delta"
   ]
  },
  {
   "cell_type": "markdown",
   "id": "aaf86f3d",
   "metadata": {},
   "source": [
    "So difference of 17 days and 7179 secs"
   ]
  },
  {
   "cell_type": "code",
   "execution_count": 79,
   "id": "aad1e3f7",
   "metadata": {},
   "outputs": [
    {
     "data": {
      "text/plain": [
       "datetime.datetime(2011, 11, 15, 22, 30)"
      ]
     },
     "execution_count": 79,
     "metadata": {},
     "output_type": "execute_result"
    }
   ],
   "source": [
    "dt + delta"
   ]
  },
  {
   "cell_type": "code",
   "execution_count": 80,
   "id": "f223f5e5",
   "metadata": {},
   "outputs": [
    {
     "data": {
      "text/plain": [
       "[1, 2, 4, 5]"
      ]
     },
     "execution_count": 80,
     "metadata": {},
     "output_type": "execute_result"
    }
   ],
   "source": [
    "sqnc = [1, 2, None, 4, None, 5]\n",
    "\n",
    "without_none = [val for val in sqnc if val is not None]\n",
    "\n",
    "without_none"
   ]
  },
  {
   "cell_type": "code",
   "execution_count": 81,
   "id": "c6deedbe",
   "metadata": {},
   "outputs": [
    {
     "data": {
      "text/plain": [
       "[1, 2, 0, 4, 6, 2, 1]"
      ]
     },
     "execution_count": 81,
     "metadata": {},
     "output_type": "execute_result"
    }
   ],
   "source": [
    "sequence = [1, 2, 0, 4, 6, 5, 2, 1]\n",
    "\n",
    "without_5 = [val for val in sequence if val != 5]\n",
    "\n",
    "without_5"
   ]
  },
  {
   "cell_type": "markdown",
   "id": "e723867f",
   "metadata": {},
   "source": [
    "`break` only breaks the inner most loop, any outer loop will continue to run"
   ]
  }
 ],
 "metadata": {
  "kernelspec": {
   "display_name": "Python 3 (ipykernel)",
   "language": "python",
   "name": "python3"
  },
  "language_info": {
   "codemirror_mode": {
    "name": "ipython",
    "version": 3
   },
   "file_extension": ".py",
   "mimetype": "text/x-python",
   "name": "python",
   "nbconvert_exporter": "python",
   "pygments_lexer": "ipython3",
   "version": "3.10.6"
  }
 },
 "nbformat": 4,
 "nbformat_minor": 5
}
