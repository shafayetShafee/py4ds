{
 "cells": [
  {
   "cell_type": "markdown",
   "id": "668fd2b5",
   "metadata": {},
   "source": [
    "## Pass by value and Pass by reference"
   ]
  },
  {
   "cell_type": "markdown",
   "id": "66b1d347",
   "metadata": {},
   "source": [
    "<img src=\"pass-by-reference-vs-pass-by-value-animation.gif\" width=\"300\" align=\"left\">"
   ]
  },
  {
   "cell_type": "markdown",
   "id": "cc84f903",
   "metadata": {},
   "source": [
    "In python, it is neither `pass-by-value` nor `pass-by-reference`, Arguments are `passed-by-assignment` (or We can say Python **`passes reference to object by value`** or we can say ***it is \"pass by value\" but all values are just references to objects.***)\n",
    "\n",
    "So there are two aspect of this,\n",
    "\n",
    "1. the parameter passed in is actually a reference to an object (but the reference is passed by value)\n",
    "2. some data types are mutable, but others aren't\n",
    "\n",
    "Broadly speaking,\n",
    "\n",
    "- If you pass a mutable object into a method (function defined for that object, or simply function), the method gets a reference to that same object and you can mutate it to your heart's delight, but if you rebind the reference in the method, the outer scope will know nothing about it, and after you're done, the outer reference will still point at the original object.\n",
    "- If you pass an immutable object to a method, you still can't rebind the outer reference, and you can't even mutate the object.\n",
    "\n",
    "Let's at first check these cases for a mutable type, **List**"
   ]
  },
  {
   "cell_type": "code",
   "execution_count": 21,
   "id": "ab15a5eb",
   "metadata": {},
   "outputs": [
    {
     "name": "stdout",
     "output_type": "stream",
     "text": [
      "before, outer_list = [1, 2, 3]\n",
      "got [1, 2, 3]\n",
      "changed to [1, 2, 3, 4]\n",
      "after, outer_list = [1, 2, 3, 4]\n"
     ]
    }
   ],
   "source": [
    "def try_to_change_list_contents(the_list):\n",
    "    print('got', the_list)\n",
    "    the_list.append(4)\n",
    "    print('changed to', the_list)\n",
    "\n",
    "outer_list = [1, 2, 3]\n",
    "\n",
    "print('before, outer_list =', outer_list)\n",
    "try_to_change_list_contents(outer_list)\n",
    "print('after, outer_list =', outer_list)"
   ]
  },
  {
   "cell_type": "code",
   "execution_count": 22,
   "id": "ef0ff6fd",
   "metadata": {},
   "outputs": [
    {
     "name": "stdout",
     "output_type": "stream",
     "text": [
      "before, outer_list = [1, 2, 3]\n",
      "got [1, 2, 3]\n",
      "new_list [1, 2, 3, 5]\n",
      "the_list [1, 2, 3, 5]\n",
      "after, outer_list = [1, 2, 3, 5]\n"
     ]
    }
   ],
   "source": [
    "def try_to_change_list_contents(the_list):\n",
    "    print('got', the_list)\n",
    "    new_list = the_list\n",
    "    new_list.append(5)\n",
    "    print('new_list', new_list)\n",
    "    print('the_list', the_list)\n",
    "\n",
    "outer_list = [1, 2, 3]\n",
    "\n",
    "print('before, outer_list =', outer_list)\n",
    "try_to_change_list_contents(outer_list)\n",
    "print('after, outer_list =', outer_list)"
   ]
  },
  {
   "cell_type": "markdown",
   "id": "7aa4a95e",
   "metadata": {},
   "source": [
    "Since the parameter-passed-in, `the_list`, is a reference to `outer_list`, not a copy of it, we can use the mutating list methods to change it and have the changes reflected in the outer scope."
   ]
  },
  {
   "cell_type": "markdown",
   "id": "2f26fa69",
   "metadata": {},
   "source": [
    "**Now let's see what happens when we try to change the reference that was passed in as a parameter to the function**"
   ]
  },
  {
   "cell_type": "code",
   "execution_count": 23,
   "id": "edd9cc24",
   "metadata": {},
   "outputs": [
    {
     "name": "stdout",
     "output_type": "stream",
     "text": [
      "before, outer_list = [1, 2, 3]\n",
      "got [1, 2, 3]\n",
      "changed to [5, 6, 7]\n",
      "after, outer_list = [1, 2, 3]\n"
     ]
    }
   ],
   "source": [
    "def try_to_change_list_contents(the_list):\n",
    "    print('got', the_list)\n",
    "    the_list = [5, 6, 7]\n",
    "    print('changed to', the_list)\n",
    "\n",
    "outer_list = [1, 2, 3]\n",
    "\n",
    "print('before, outer_list =', outer_list)\n",
    "try_to_change_list_contents(outer_list)\n",
    "print('after, outer_list =', outer_list)"
   ]
  },
  {
   "cell_type": "markdown",
   "id": "506e8660",
   "metadata": {},
   "source": [
    "Since the `the_list` parameter (*a reference to a mutable object*) was **passed by value**, assigning a new list to it had no effect that the code outside the method could see. The `the_list` was a copy of the outer_list reference (since it was passed by value), and we had `the_list` point to a new list, but there was no way to change where `outer_list` pointed."
   ]
  },
  {
   "cell_type": "markdown",
   "id": "1b873938",
   "metadata": {},
   "source": [
    "Now for **String - an immutable type**"
   ]
  },
  {
   "cell_type": "code",
   "execution_count": 24,
   "id": "48d1dc7a",
   "metadata": {},
   "outputs": [
    {
     "name": "stdout",
     "output_type": "stream",
     "text": [
      "before, outer_string = It was many and many a year ago\n",
      "got It was many and many a year ago\n",
      "set to In a kingdom by the sea\n",
      "after, outer_string = It was many and many a year ago\n"
     ]
    }
   ],
   "source": [
    "def try_to_change_string_reference(the_string):\n",
    "    print('got', the_string)\n",
    "    the_string = 'In a kingdom by the sea'\n",
    "    print('set to', the_string)\n",
    "\n",
    "outer_string = 'It was many and many a year ago'\n",
    "\n",
    "print('before, outer_string =', outer_string)\n",
    "try_to_change_string_reference(outer_string)\n",
    "print('after, outer_string =', outer_string)"
   ]
  },
  {
   "cell_type": "markdown",
   "id": "8a1a77f4",
   "metadata": {},
   "source": [
    "Again, since the `the_string` parameter (a reference to an immuatable object) was passed by value, assigning a new string to it had no effect that the code outside the method could see. The `the_string` was a copy of the `outer_string` reference, and we had `the_string` point to a new string, but there was no way to change where outer_string pointed."
   ]
  },
  {
   "cell_type": "markdown",
   "id": "1499bebf",
   "metadata": {},
   "source": [
    "**So How do we pass-by-reference the immutable objects like tuples, string, numbers**"
   ]
  },
  {
   "cell_type": "markdown",
   "id": "e2232f0e",
   "metadata": {},
   "source": [
    "The simplest way is to wrap the immutable object with mutable object like list then pass it the function. The following exmaple shows this,"
   ]
  },
  {
   "cell_type": "code",
   "execution_count": 25,
   "id": "fc833e71",
   "metadata": {},
   "outputs": [
    {
     "name": "stdout",
     "output_type": "stream",
     "text": [
      "num from function is 1\n",
      "num from outside the function is 0\n"
     ]
    }
   ],
   "source": [
    "def inc_num(num):\n",
    "    num += 1\n",
    "    print(f\"num from function is {num}\")\n",
    "    \n",
    "num = 0\n",
    "\n",
    "inc_num(num)\n",
    "\n",
    "print(f\"num from outside the function is {num}\")"
   ]
  },
  {
   "cell_type": "markdown",
   "id": "caadcf49",
   "metadata": {},
   "source": [
    "`num` doesn't change here, because `num` is immutable, so when the reference is passed (by-value) of the num, since it cannot be mutated, a copy is created while increased and the outside object remains unchanged.\n",
    "\n",
    "But we can pass it by reference by wraping the `num` with list."
   ]
  },
  {
   "cell_type": "code",
   "execution_count": 26,
   "id": "7d3807e7",
   "metadata": {},
   "outputs": [
    {
     "name": "stdout",
     "output_type": "stream",
     "text": [
      "num from function is 1\n",
      "num from outside the function is 0\n"
     ]
    }
   ],
   "source": [
    "def inc_num(num):\n",
    "    num[0] += 1\n",
    "    print(f\"num from function is {num[0]}\")\n",
    "\n",
    "num = 0\n",
    "\n",
    "inc_num([num])\n",
    "\n",
    "print(f\"num from outside the function is {num}\")"
   ]
  },
  {
   "cell_type": "markdown",
   "id": "6e088e45",
   "metadata": {},
   "source": [
    "## More and Reaalllyyy More on this topic\n",
    "\n",
    "- [How do I pass a variable by reference?](https://stackoverflow.com/questions/986006/how-do-i-pass-a-variable-by-reference)\n",
    "- [Passing values in Python](https://stackoverflow.com/questions/534375/passing-values-in-python)"
   ]
  },
  {
   "cell_type": "markdown",
   "id": "2492ab43",
   "metadata": {},
   "source": [
    "## How to pass by value an mutable object\n",
    "\n",
    "Well, by passing a copy of it"
   ]
  },
  {
   "cell_type": "code",
   "execution_count": 27,
   "id": "c80531ba",
   "metadata": {},
   "outputs": [
    {
     "name": "stdout",
     "output_type": "stream",
     "text": [
      "before, outer_list = [1, 2, 3]\n",
      "got [1, 2, 3]\n",
      "changed to [1, 2, 3, 4]\n",
      "after, outer_list = [1, 2, 3]\n"
     ]
    }
   ],
   "source": [
    "def try_to_change_list_contents(the_list):\n",
    "    print('got', the_list)\n",
    "    the_list.append(4)\n",
    "    print('changed to', the_list)\n",
    "\n",
    "outer_list = [1, 2, 3]\n",
    "\n",
    "print('before, outer_list =', outer_list)\n",
    "try_to_change_list_contents(outer_list.copy()) # passing the reference to the copied verison\n",
    "print('after, outer_list =', outer_list) # so original version remain the same.v"
   ]
  },
  {
   "cell_type": "markdown",
   "id": "5b8504bb",
   "metadata": {},
   "source": [
    "**And lastly, in python, instead of thinking in terms of variables and values, it would be better to think in terms of names and objects**\n",
    "\n",
    "- Python has names and objects.\n",
    "- Assignment binds a name to an object."
   ]
  }
 ],
 "metadata": {
  "kernelspec": {
   "display_name": "Python 3 (ipykernel)",
   "language": "python",
   "name": "python3"
  },
  "language_info": {
   "codemirror_mode": {
    "name": "ipython",
    "version": 3
   },
   "file_extension": ".py",
   "mimetype": "text/x-python",
   "name": "python",
   "nbconvert_exporter": "python",
   "pygments_lexer": "ipython3",
   "version": "3.9.12"
  }
 },
 "nbformat": 4,
 "nbformat_minor": 5
}
