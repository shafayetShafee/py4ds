{
 "cells": [
  {
   "cell_type": "markdown",
   "id": "11c3f51f",
   "metadata": {},
   "source": [
    "Disclaimer:\n",
    "> **The shallow and deep copy makes sense only for compound objects (objects that contain other objects, like lists, sets, dictionaries, or class instances).**"
   ]
  },
  {
   "cell_type": "markdown",
   "id": "2197287d",
   "metadata": {},
   "source": [
    "In Python, when we use = operator to do something like this, `a = 4; b = a` we may think that this creates a new object; it doesn't. It only binds a new name to `4` that shares the reference of the original object (`4`). To give an example,"
   ]
  },
  {
   "cell_type": "code",
   "execution_count": 22,
   "id": "c0e7d5b3",
   "metadata": {},
   "outputs": [
    {
     "name": "stdout",
     "output_type": "stream",
     "text": [
      "Old List: [[1, 2, 3], [4, 5, 6], [7, 8, 9]]\n",
      "ID of Old List: 2747833076096\n",
      "New List: [[1, 2, 3], [4, 5, 6], [7, 8, 9]]\n",
      "ID of New List: 2747833076096\n"
     ]
    }
   ],
   "source": [
    "old_list = [[1, 2, 3], [4, 5, 6], [7, 8, 'a']]\n",
    "new_list = old_list\n",
    "\n",
    "new_list[2][2] = 9\n",
    "\n",
    "print('Old List:', old_list)\n",
    "print('ID of Old List:', id(old_list))\n",
    "\n",
    "print('New List:', new_list)\n",
    "print('ID of New List:', id(new_list))"
   ]
  },
  {
   "cell_type": "markdown",
   "id": "08f53a24",
   "metadata": {},
   "source": [
    "We see that both of the list object are same and share the same memory. So, if you want to modify any values in `new_list` or `old_list`, the change is visible in both."
   ]
  },
  {
   "cell_type": "markdown",
   "id": "954d1702",
   "metadata": {},
   "source": [
    "Essentially, sometimes you may want to have the original values unchanged and only modify the new values or vice versa. In Python, there are two ways to create copies:\n",
    "\n",
    "- Shallow Copy\n",
    "- Deep copy\n",
    "\n",
    "We need the `copy` to make this work."
   ]
  },
  {
   "cell_type": "markdown",
   "id": "886c06ab",
   "metadata": {},
   "source": [
    "## Shallow Copy\n",
    "\n",
    "A shallow copy creates a new object (i.e. create a copy) which stores the reference of the original elements. Again This makes more sense for compound objects (container like objects, Set, list, dict etc).\n",
    "\n",
    "So, a shallow copy doesn't create a copy of nested objects, instead it just copies the reference of nested objects. This means, a copy process does not recurse or create copies of nested objects itself."
   ]
  },
  {
   "cell_type": "code",
   "execution_count": 23,
   "id": "246a3b16",
   "metadata": {},
   "outputs": [
    {
     "name": "stdout",
     "output_type": "stream",
     "text": [
      "Old List: [[1, 2, 3], [4, 5, 6], [7, 8, 9]]\n",
      "ID of Old List: 2747832824768\n",
      "New List: [[1, 2, 3], [4, 5, 6], [7, 8, 9]]\n",
      "ID of New List: 2747833076864\n",
      "--------------------------------------------------------------------------------\n",
      "Old list: [[1, 2, 3], [4, 5, 6], [7, 8, 9], [4, 4, 4]]\n",
      "New list: [[1, 2, 3], [4, 5, 6], [7, 8, 9]]\n"
     ]
    }
   ],
   "source": [
    "import copy\n",
    "\n",
    "old_list = [[1, 2, 3], [4, 5, 6], [7, 8, 9]]\n",
    "new_list = copy.copy(old_list)\n",
    "\n",
    "print('Old List:', old_list)\n",
    "print('ID of Old List:', id(old_list))\n",
    "\n",
    "print('New List:', new_list)\n",
    "print('ID of New List:', id(new_list))\n",
    "\n",
    "old_list.append([4, 4, 4])\n",
    "\n",
    "print(\"--\"*40)\n",
    "print(\"Old list:\", old_list)\n",
    "print(\"New list:\", new_list)"
   ]
  },
  {
   "cell_type": "markdown",
   "id": "77b6b9db",
   "metadata": {},
   "source": [
    "So its pretty much clear that `old_list` and `new_list` are different object now and adding nested objects at the most outer level to either list object doesn't change other."
   ]
  },
  {
   "cell_type": "markdown",
   "id": "8687a9b4",
   "metadata": {},
   "source": [
    "But what happens if we change/modify the the nested objects?"
   ]
  },
  {
   "cell_type": "markdown",
   "id": "f304da85",
   "metadata": {},
   "source": [
    "That change will prevail in both of the object (original and copied), that's because copied object didn't copy the nested objects too, it only store the references of those nested objects."
   ]
  },
  {
   "cell_type": "code",
   "execution_count": 24,
   "id": "2a9f8a6b",
   "metadata": {},
   "outputs": [
    {
     "name": "stdout",
     "output_type": "stream",
     "text": [
      "Old list: [[1, 1, 1], [2, 'AA', 2], [3, 3, 3]]\n",
      "New list: [[1, 1, 1], [2, 'AA', 2], [3, 3, 3]]\n"
     ]
    }
   ],
   "source": [
    "import copy\n",
    "\n",
    "old_list = [[1, 1, 1], [2, 2, 2], [3, 3, 3]]\n",
    "new_list = copy.copy(old_list)\n",
    "\n",
    "old_list[1][1] = 'AA'\n",
    "\n",
    "print(\"Old list:\", old_list)\n",
    "print(\"New list:\", new_list)"
   ]
  },
  {
   "cell_type": "code",
   "execution_count": 25,
   "id": "3adb1ab6",
   "metadata": {},
   "outputs": [
    {
     "name": "stdout",
     "output_type": "stream",
     "text": [
      "Old list: [[1, 1, 1], [2, 'AA', 2], [3, 3, 3]]\n",
      "New list: [[1, 1, 1], [2, 'AA', 2], [3, 3, 3]]\n"
     ]
    }
   ],
   "source": [
    "import copy\n",
    "\n",
    "old_list = [[1, 1, 1], [2, 2, 2], [3, 3, 3]]\n",
    "new_list = copy.copy(old_list)\n",
    "\n",
    "new_list[1][1] = 'AA'\n",
    "\n",
    "print(\"Old list:\", old_list)\n",
    "print(\"New list:\", new_list)"
   ]
  },
  {
   "cell_type": "markdown",
   "id": "ea5ed297",
   "metadata": {},
   "source": [
    "Here both `new_list` and `old_list` share the same references to those nested objects."
   ]
  },
  {
   "cell_type": "markdown",
   "id": "8f91052c",
   "metadata": {},
   "source": [
    "## Deep Copy\n",
    "\n",
    "A deep copy creates a new object and recursively adds the copies of nested objects present in the original elements. That is, deep copy creates a completely new object from outer most level to inner most."
   ]
  },
  {
   "cell_type": "code",
   "execution_count": 26,
   "id": "a3db76c7",
   "metadata": {},
   "outputs": [
    {
     "name": "stdout",
     "output_type": "stream",
     "text": [
      "Old list: [[1, 1, 1], [2, 2, 2], [3, 3, 3]]\n",
      "New list: [[1, 1, 1], [2, 2, 2], [3, 3, 3]]\n",
      "--------------------------------------------------------------------------------\n",
      "Old list: [[1, 1, 1], ['BB', 2, 2], [3, 3, 3]]\n",
      "New list: [[1, 1, 1], [2, 2, 2], [3, 3, 3]]\n"
     ]
    }
   ],
   "source": [
    "import copy\n",
    "\n",
    "old_list = [[1, 1, 1], [2, 2, 2], [3, 3, 3]]\n",
    "new_list = copy.deepcopy(old_list)\n",
    "\n",
    "print(\"Old list:\", old_list)\n",
    "print(\"New list:\", new_list)\n",
    "\n",
    "old_list[1][0] = 'BB'\n",
    "\n",
    "print(\"--\"*40)\n",
    "print(\"Old list:\", old_list)\n",
    "print(\"New list:\", new_list)"
   ]
  },
  {
   "cell_type": "markdown",
   "id": "44a9eeec",
   "metadata": {},
   "source": [
    "In the above program, when we assign a new value to `old_list`, we can see only the `old_list` is modified. This means, both the `old_list` and the `new_list` are independent. This is because the `old_list` was recursively copied, which is true for all its nested objects."
   ]
  },
  {
   "cell_type": "markdown",
   "id": "7f38c23f",
   "metadata": {},
   "source": [
    "## More\n",
    "\n",
    "There are some more ways to create a shallow copy other than using copy module."
   ]
  },
  {
   "cell_type": "code",
   "execution_count": 27,
   "id": "2afe9bb0",
   "metadata": {},
   "outputs": [
    {
     "name": "stdout",
     "output_type": "stream",
     "text": [
      "2747833076096 2747832749632\n"
     ]
    }
   ],
   "source": [
    "## using a loop\n",
    "\n",
    "my_list1 = [10,20,30,40,50]\n",
    "my_list2 = []\n",
    "\n",
    "for num in my_list1:\n",
    "    my_list2.append(num)\n",
    "\n",
    "print(id(my_list1), id(my_list2))"
   ]
  },
  {
   "cell_type": "code",
   "execution_count": 28,
   "id": "3785d934",
   "metadata": {},
   "outputs": [
    {
     "name": "stdout",
     "output_type": "stream",
     "text": [
      "2747833073728 2747832816128\n"
     ]
    }
   ],
   "source": [
    "## using list comprehension\n",
    "\n",
    "my_list1 = [10,20,30,40,50]\n",
    "my_list2 = [x for x in my_list1]\n",
    "\n",
    "print(id(my_list1), id(my_list2))"
   ]
  },
  {
   "cell_type": "code",
   "execution_count": 29,
   "id": "c6c1723a",
   "metadata": {},
   "outputs": [
    {
     "name": "stdout",
     "output_type": "stream",
     "text": [
      "2747833076096 2747833068032\n"
     ]
    }
   ],
   "source": [
    "## using copy method\n",
    "\n",
    "my_list1 = [10,20,30,40,50]\n",
    "my_list2 = my_list1.copy()\n",
    "\n",
    "print(id(my_list1), id(my_list2))"
   ]
  },
  {
   "cell_type": "code",
   "execution_count": 30,
   "id": "9aad82f3",
   "metadata": {},
   "outputs": [
    {
     "name": "stdout",
     "output_type": "stream",
     "text": [
      "2747832816128 2747832155840\n"
     ]
    }
   ],
   "source": [
    "## Slicing method\n",
    "my_list1 = [10,20,30,40,50]\n",
    "my_list2 = my_list1[:]\n",
    "\n",
    "print(id(my_list1), id(my_list2))"
   ]
  },
  {
   "cell_type": "code",
   "execution_count": 31,
   "id": "508cd144",
   "metadata": {},
   "outputs": [
    {
     "name": "stdout",
     "output_type": "stream",
     "text": [
      "2747833076864 2747832152256\n"
     ]
    }
   ],
   "source": [
    "## using constructor\n",
    "\n",
    "my_list1 = [10,20,30,40,50]\n",
    "my_list2 = list(my_list1)\n",
    "\n",
    "print(id(my_list1), id(my_list2))"
   ]
  },
  {
   "cell_type": "code",
   "execution_count": null,
   "id": "c15d6e95",
   "metadata": {},
   "outputs": [],
   "source": []
  }
 ],
 "metadata": {
  "kernelspec": {
   "display_name": "Python 3 (ipykernel)",
   "language": "python",
   "name": "python3"
  },
  "language_info": {
   "codemirror_mode": {
    "name": "ipython",
    "version": 3
   },
   "file_extension": ".py",
   "mimetype": "text/x-python",
   "name": "python",
   "nbconvert_exporter": "python",
   "pygments_lexer": "ipython3",
   "version": "3.9.12"
  }
 },
 "nbformat": 4,
 "nbformat_minor": 5
}
