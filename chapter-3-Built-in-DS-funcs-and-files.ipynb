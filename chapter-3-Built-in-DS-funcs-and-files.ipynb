{
 "cells": [
  {
   "cell_type": "markdown",
   "id": "f44b09af",
   "metadata": {},
   "source": [
    "## Data Structures and Sequences"
   ]
  },
  {
   "cell_type": "markdown",
   "id": "13e941e9",
   "metadata": {},
   "source": [
    "### Tuples\n",
    "\n",
    "A tuple is a fixed legnth immutable sequence object."
   ]
  },
  {
   "cell_type": "code",
   "execution_count": 1,
   "id": "eb08ddae",
   "metadata": {},
   "outputs": [
    {
     "data": {
      "text/plain": [
       "(4, 5, 6)"
      ]
     },
     "execution_count": 1,
     "metadata": {},
     "output_type": "execute_result"
    }
   ],
   "source": [
    "tup = (4, 5, 6)\n",
    "\n",
    "tup"
   ]
  },
  {
   "cell_type": "code",
   "execution_count": 2,
   "id": "c6a6c9b8",
   "metadata": {},
   "outputs": [
    {
     "data": {
      "text/plain": [
       "(4, 5, 6)"
      ]
     },
     "execution_count": 2,
     "metadata": {},
     "output_type": "execute_result"
    }
   ],
   "source": [
    "tup = 4, 5, 6\n",
    "\n",
    "tup"
   ]
  },
  {
   "cell_type": "markdown",
   "id": "06b04af5",
   "metadata": {},
   "source": [
    "converting to tuple from other sequences and iterators"
   ]
  },
  {
   "cell_type": "code",
   "execution_count": 3,
   "id": "b6c3bb15",
   "metadata": {},
   "outputs": [
    {
     "data": {
      "text/plain": [
       "(1, 2, 3, 4)"
      ]
     },
     "execution_count": 3,
     "metadata": {},
     "output_type": "execute_result"
    }
   ],
   "source": [
    "tuple([1, 2, 3, 4])"
   ]
  },
  {
   "cell_type": "code",
   "execution_count": 4,
   "id": "2839e70c",
   "metadata": {},
   "outputs": [
    {
     "data": {
      "text/plain": [
       "('y', 'o', ' ', 'h', 'o', ' ', 'h', 'o')"
      ]
     },
     "execution_count": 4,
     "metadata": {},
     "output_type": "execute_result"
    }
   ],
   "source": [
    "tuple(\"yo ho ho\")"
   ]
  },
  {
   "cell_type": "markdown",
   "id": "a284e2ec",
   "metadata": {},
   "source": [
    "You can create tuples with different types of objects. Though tuple is itself immutable, if it contains mutable objects, they can be modified in place."
   ]
  },
  {
   "cell_type": "code",
   "execution_count": 7,
   "id": "6c66ef0f",
   "metadata": {},
   "outputs": [],
   "source": [
    "tup = ('foo', [1, 2], False)"
   ]
  },
  {
   "cell_type": "code",
   "execution_count": 9,
   "id": "9c905db5",
   "metadata": {},
   "outputs": [],
   "source": [
    "tup[1][1] = 4"
   ]
  },
  {
   "cell_type": "code",
   "execution_count": 10,
   "id": "3f40fcd8",
   "metadata": {},
   "outputs": [
    {
     "data": {
      "text/plain": [
       "('foo', [1, 4], False)"
      ]
     },
     "execution_count": 10,
     "metadata": {},
     "output_type": "execute_result"
    }
   ],
   "source": [
    "tup"
   ]
  },
  {
   "cell_type": "code",
   "execution_count": 11,
   "id": "b3c01d2b",
   "metadata": {},
   "outputs": [
    {
     "data": {
      "text/plain": [
       "('foo', [1, 4, 3], False)"
      ]
     },
     "execution_count": 11,
     "metadata": {},
     "output_type": "execute_result"
    }
   ],
   "source": [
    "tup[1].append(3)\n",
    "\n",
    "tup"
   ]
  },
  {
   "cell_type": "markdown",
   "id": "3d044b38",
   "metadata": {},
   "source": [
    "When creating tuple with single element, do not forget to give a comma after it."
   ]
  },
  {
   "cell_type": "code",
   "execution_count": 14,
   "id": "4245807c",
   "metadata": {},
   "outputs": [],
   "source": [
    "obj1 = (1)\n",
    "obj2 = (1,)"
   ]
  },
  {
   "cell_type": "code",
   "execution_count": 15,
   "id": "0919c752",
   "metadata": {},
   "outputs": [
    {
     "name": "stdout",
     "output_type": "stream",
     "text": [
      "<class 'int'> <class 'tuple'>\n"
     ]
    }
   ],
   "source": [
    "print(type(obj1), type(obj2))"
   ]
  },
  {
   "cell_type": "code",
   "execution_count": 16,
   "id": "f69165b9",
   "metadata": {},
   "outputs": [
    {
     "data": {
      "text/plain": [
       "(4, False, 'bar', 5, 10)"
      ]
     },
     "execution_count": 16,
     "metadata": {},
     "output_type": "execute_result"
    }
   ],
   "source": [
    "(4, False, 'bar') + (5, 10)"
   ]
  },
  {
   "cell_type": "code",
   "execution_count": 19,
   "id": "336502a2",
   "metadata": {},
   "outputs": [
    {
     "data": {
      "text/plain": [
       "(1, 7, 5, 1, 7, 5, 1, 7, 5)"
      ]
     },
     "execution_count": 19,
     "metadata": {},
     "output_type": "execute_result"
    }
   ],
   "source": [
    "(1, 7, 5) * 3"
   ]
  },
  {
   "cell_type": "code",
   "execution_count": 21,
   "id": "6d1f6781",
   "metadata": {},
   "outputs": [
    {
     "name": "stdout",
     "output_type": "stream",
     "text": [
      "1 3 5\n"
     ]
    }
   ],
   "source": [
    "a, b, c = (1, 3, 5)\n",
    "\n",
    "print(a, b, c)"
   ]
  },
  {
   "cell_type": "code",
   "execution_count": 22,
   "id": "235433fe",
   "metadata": {},
   "outputs": [
    {
     "name": "stdout",
     "output_type": "stream",
     "text": [
      "1 3 5\n"
     ]
    }
   ],
   "source": [
    "a, (b, d) = (1, (3, 5))\n",
    "\n",
    "print(a, b, d)"
   ]
  },
  {
   "cell_type": "code",
   "execution_count": 23,
   "id": "bbdda2d3",
   "metadata": {},
   "outputs": [
    {
     "name": "stdout",
     "output_type": "stream",
     "text": [
      "1 2\n"
     ]
    }
   ],
   "source": [
    "values = 1, 2, 3, 4, 5\n",
    "\n",
    "a, b, *_ = values\n",
    "\n",
    "print(a, b)"
   ]
  },
  {
   "cell_type": "code",
   "execution_count": 24,
   "id": "5b3089b8",
   "metadata": {},
   "outputs": [
    {
     "data": {
      "text/plain": [
       "4"
      ]
     },
     "execution_count": 24,
     "metadata": {},
     "output_type": "execute_result"
    }
   ],
   "source": [
    "a = 1, 2, 3, 2, 4, 2, 2\n",
    "\n",
    "a.count(2)"
   ]
  },
  {
   "cell_type": "markdown",
   "id": "81302947",
   "metadata": {},
   "source": [
    "In contrast to `tuple`, `list` is mutable variable length object."
   ]
  },
  {
   "cell_type": "markdown",
   "id": "6de36b8a",
   "metadata": {},
   "source": [
    "- `insert` method for list is computationally expensive compared to `append`\n",
    "- checking whether the `list` contains certain value is lot slower compared to the case of `dict` or `set`"
   ]
  }
 ],
 "metadata": {
  "kernelspec": {
   "display_name": "Python 3 (ipykernel)",
   "language": "python",
   "name": "python3"
  },
  "language_info": {
   "codemirror_mode": {
    "name": "ipython",
    "version": 3
   },
   "file_extension": ".py",
   "mimetype": "text/x-python",
   "name": "python",
   "nbconvert_exporter": "python",
   "pygments_lexer": "ipython3",
   "version": "3.10.6"
  }
 },
 "nbformat": 4,
 "nbformat_minor": 5
}
